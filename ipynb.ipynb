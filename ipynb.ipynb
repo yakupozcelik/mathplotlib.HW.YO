{
 "cells": [
  {
   "cell_type": "code",
   "execution_count": null,
   "metadata": {},
   "outputs": [],
   "source": [
    "# Dependencies and Setup\n",
    "%matplotlib inline\n",
    "import matplotlib.pyplot as plt\n",
    "import pandas as pd\n",
    "import numpy as np\n",
    "\n",
    "# Hide warning messages in notebook\n",
    "import warnings\n",
    "warnings.filterwarnings('ignore')\n",
    "\n",
    "# File to Load (Remember to Change These)\n",
    "mouse_drug_data_to_load = \"data/mouse_drug_data.csv\"\n",
    "clinical_trial_data_to_load = \"data/clinicaltrial_data.csv\"\n",
    "\n",
    "# Read the Mouse and Drug Data and the Clinical Trial Data\n",
    "mouse = pd.read_csv(mouse_drug_data_to_load)\n",
    "clinical = pd.read_csv(clinical_trial_data_to_load)\n",
    "\n",
    "# Combine the data into a single dataset\n",
    "combined_df = pd.merge(clinical, mouse, on = \"Mouse ID\", how = \"left\")\n",
    "\n",
    "# Display the data table for preview\n",
    "combined_df.head(5)"
   ]
  },
  {
   "cell_type": "code",
   "execution_count": null,
   "metadata": {},
   "outputs": [],
   "source": [
    "# Store the Mean Tumor Volume Data Grouped by Drug and Timepoint \n",
    "groupby = combined_df.groupby([\"Drug\", \"Timepoint\"])\n",
    "Avg_Tumor_Volume = groupby[\"Tumor Volume (mm3)\"].mean()\n",
    "# Convert to DataFrame\n",
    "Avg_Tumor_Volume = pd.DataFrame(Avg_Tumor_Volume)\n",
    "Avg_Tumor_Volume = Avg_Tumor_Volume.reset_index()\n",
    "# Preview DataFrame\n",
    "Avg_Tumor_Volume.head()"
   ]
  },
  {
   "cell_type": "code",
   "execution_count": null,
   "metadata": {},
   "outputs": [],
   "source": [
    "# Store the Standard Error of Tumor Volumes Grouped by Drug and Timepoint\n",
    "SE = groupby[\"Tumor Volume (mm3)\"].sem()\n",
    "# Convert to DataFrame\n",
    "SE = pd.DataFrame(SE)\n",
    "SE = SE.reset_index()\n",
    "# Preview DataFrame\n",
    "SE.head()"
   ]
  },
  {
   "cell_type": "code",
   "execution_count": null,
   "metadata": {},
   "outputs": [],
   "source": [
    "# Minor Data Munging to Re-Format the Data Frames\n",
    "Mungled_Data = Avg_Tumor_Volume.pivot(index = 'Timepoint', columns ='Drug', values = 'Tumor Volume (mm3)')  \n",
    "# Preview that Reformatting worked\n",
    "Mungled_Data"
   ]
  },
  {
   "cell_type": "code",
   "execution_count": null,
   "metadata": {},
   "outputs": [],
   "source": [
    "# Generate the Plot (with Error Bars)\n",
    "Capomulin_error = SE.loc[SE[\"Drug\"] == \"Capomulin\", \"Tumor Volume (mm3)\"]\n",
    "Infubinol_error = SE.loc[SE[\"Drug\"] == \"Infubinol\", \"Tumor Volume (mm3)\"]\n",
    "Ketapril_error = SE.loc[SE[\"Drug\"] == \"Ketapril\", \"Tumor Volume (mm3)\"]\n",
    "Placebo_error = SE.loc[SE[\"Drug\"] == \"Placebo\", \"Tumor Volume (mm3)\"]\n",
    "Time = [0, 5, 10, 15, 20, 25, 30, 35, 40, 45]\n",
    "plt.errorbar(Time, Mungled_Data[\"Capomulin\"] , yerr= Capomulin_error, label= \"Capomulin\", marker= \"o\", color=\"red\", linestyle='--')\n",
    "plt.errorbar(Time, Mungled_Data[\"Infubinol\"] , yerr= Infubinol_error, label= \"Infubinol\", marker= \"^\", color=\"blue\", linestyle='--')\n",
    "plt.errorbar(Time, Mungled_Data[\"Ketapril\"] , yerr= Ketapril_error, label= \"Ketapril\", marker= \"D\", color=\"black\", linestyle='--')\n",
    "plt.errorbar(Time, Mungled_Data[\"Placebo\"] , yerr= Placebo_error , label= \"Placebo\", marker= \"s\", color=\"green\", linestyle='--')\n",
    "plt.legend()\n",
    "plt.title(\"Tumor Response to Treatment \")\n",
    "plt.xlabel(\"Time (Days)\")\n",
    "plt.ylabel(\"Tumor Volume (mm3)\")\n",
    "plt.grid()\n",
    "# Save the Figure\n",
    "plt.savefig(\"Tumor_Response.png\")"
   ]
  },
  {
   "cell_type": "code",
   "execution_count": null,
   "metadata": {},
   "outputs": [],
   "source": [
    "# Store the Mean Met. Site Data Grouped by Drug and Timepoint \n",
    "groupby1 = combined_df.groupby([\"Drug\", \"Timepoint\"])\n",
    "Avg_Met_Set = groupby1[\"Metastatic Sites\"].mean()\n",
    "# Convert to DataFrame\n",
    "Avg_Met_Set = pd.DataFrame(Avg_Met_Set)\n",
    "# Preview DataFrame\n",
    "Avg_Met_Set.head()"
   ]
  },
  {
   "cell_type": "code",
   "execution_count": null,
   "metadata": {},
   "outputs": [],
   "source": [
    "# Store the Standard Error associated with Met. Sites Grouped by Drug and Timepoint \n",
    "SE_Met_Set = groupby1[\"Metastatic Sites\"].sem()\n",
    "# Convert to DataFrame\n",
    "SE_Met_Set = pd.DataFrame(SE_Met_Set)\n",
    "# Preview DataFrame\n",
    "SE_Met_Set.head()"
   ]
  },
  {
   "cell_type": "code",
   "execution_count": null,
   "metadata": {},
   "outputs": [],
   "source": [
    "# Minor Data Munging to Re-Format the Data Frames\n",
    "Avg_Met_Set_R = Avg_Met_Set.reset_index()\n",
    "SE_Met_Set_R = SE_Met_Set.reset_index()\n",
    "\n",
    "Mungled_Data_Metsite = Avg_Met_Set_R.pivot(index = 'Timepoint', columns ='Drug', values = 'Metastatic Sites')\n",
    "# Preview that Reformatting worked\n",
    "Mungled_Data_Metsite.head()"
   ]
  },
  {
   "cell_type": "code",
   "execution_count": null,
   "metadata": {},
   "outputs": [],
   "source": [
    "# Generate the Plot (with Error Bars)\n",
    "Capomulin_error = SE_Met_Set_R.loc[SE_Met_Set_R[\"Drug\"] == \"Capomulin\", \"Metastatic Sites\"]\n",
    "Infubinol_error = SE_Met_Set_R.loc[SE_Met_Set_R[\"Drug\"] == \"Infubinol\", \"Metastatic Sites\"]\n",
    "Ketapril_error = SE_Met_Set_R.loc[SE_Met_Set_R[\"Drug\"] == \"Ketapril\", \"Metastatic Sites\"]\n",
    "Placebo_error = SE_Met_Set_R.loc[SE_Met_Set_R[\"Drug\"] == \"Placebo\", \"Metastatic Sites\"]\n",
    "Time = [0, 5, 10, 15, 20, 25, 30, 35, 40, 45]\n",
    "plt.errorbar(Time, Mungled_Data_Metsite[\"Capomulin\"] , yerr= Capomulin_error, label= \"Capomulin\", marker= \"o\", color=\"red\", linestyle=':')\n",
    "plt.errorbar(Time, Mungled_Data_Metsite[\"Infubinol\"] , yerr= Infubinol_error, label= \"Infubinol\", marker= \"^\", color=\"blue\", linestyle=':')\n",
    "plt.errorbar(Time, Mungled_Data_Metsite[\"Ketapril\"] , yerr= Ketapril_error, label= \"Ketapril\", marker= \"s\", color=\"green\", linestyle=':')\n",
    "plt.errorbar(Time, Mungled_Data_Metsite[\"Placebo\"] , yerr= Placebo_error, label= \"Placebo\", marker= \"d\", color=\"black\", linestyle=':')\n",
    "plt.legend()\n",
    "plt.title(\"Metastatic spread During Treatment \")\n",
    "plt.xlabel(\"Treatment Duration (Days)\")\n",
    "plt.ylabel(\"Met.Sites\")\n",
    "plt.grid()\n",
    "# Save the Figure\n",
    "plt.savefig(\"Metsite_Response.png\")\n",
    "# Show the Figure"
   ]
  },
  {
   "cell_type": "code",
   "execution_count": null,
   "metadata": {},
   "outputs": [],
   "source": [
    "# Store the Count of Mice Grouped by Drug and Timepoint (W can pass any metric)\n",
    "Mouse_Count = groupby[\"Mouse ID\"].count()\n",
    "# Convert to DataFrame\n",
    "Mouse_Count = pd.DataFrame(Mouse_Count).reset_index()\n",
    "Mouse_Count = Mouse_Count.rename(columns = {\"Mouse ID\":\"Mouse Count\"})\n",
    "# Preview DataFrame\n",
    "Mouse_Count.head()"
   ]
  },
  {
   "cell_type": "code",
   "execution_count": null,
   "metadata": {},
   "outputs": [],
   "source": [
    "# Minor Data Munging to Re-Format the Data Frames\n",
    "Mungled_Mouse_data = Mouse_Count.pivot(index = 'Timepoint', columns ='Drug', values = 'Mouse Count')\n",
    "# Preview the Data Frame\n",
    "Mungled_Mouse_data.head()"
   ]
  },
  {
   "cell_type": "code",
   "execution_count": null,
   "metadata": {},
   "outputs": [],
   "source": [
    "# Generate the Plot (Accounting for percentages)\n",
    "Time = [0, 5, 10, 15, 20, 25, 30, 35, 40, 45]\n",
    "plt.plot(Time, (Mungled_Mouse_data[\"Capomulin\"]/25)*100 , label= \"Capomulin\", marker= \"o\", color=\"red\", linestyle=':')\n",
    "plt.plot(Time, (Mungled_Mouse_data[\"Infubinol\"]/25)*100 , label= \"Infubinol\", marker= \"^\", color=\"blue\", linestyle=':')\n",
    "plt.plot(Time, (Mungled_Mouse_data[\"Ketapril\"]/25)*100 , label= \"Ketapril\", marker= \"s\", color=\"green\", linestyle=':')\n",
    "plt.plot(Time, (Mungled_Mouse_data[\"Placebo\"]/25)*100 , label= \"Placebo\", marker= \"d\", color=\"black\", linestyle=':')\n",
    "plt.legend()\n",
    "plt.title(\"Survival During Treatment\")\n",
    "plt.xlabel(\"Time (Days)\")\n",
    "plt.ylabel(\"Survival Rate (%) \")\n",
    "plt.grid()\n",
    "# Save the Figure\n",
    "plt.savefig(\"Survival_Rate.png\")\n",
    "# Show the Figure\n",
    "plt.show()"
   ]
  },
  {
   "cell_type": "code",
   "execution_count": null,
   "metadata": {},
   "outputs": [],
   "source": [
    "# Calculate the percent changes for each drug\n",
    "Mungled_Data\n",
    "Intial_tumor_volume = 45\n",
    "Percent_Changes = ((Mungled_Data.loc[45, :] - Intial_tumor_volume)/Intial_tumor_volume)*100\n",
    "# Display the data to confirm\n",
    "Percent_Changes"
   ]
  },
  {
   "cell_type": "code",
   "execution_count": null,
   "metadata": {},
   "outputs": [],
   "source": [
    "# Store all Relevant Percent Changes into a Tuple\n",
    "Tuple_Percent_Changes = tuple(zip(Percent_Changes.index, Percent_Changes))\n",
    "Tuple_Percent_Changes_list = list(Tuple_Percent_Changes)\n",
    "Tuple_Percent_Changes_list\n",
    "# Splice the data between passing and failing drugs\n",
    "passing = []\n",
    "failing = []\n",
    "index_passing = []\n",
    "index_failing = []\n",
    "for i,elements in Tuple_Percent_Changes_list :\n",
    "    if elements > 0 :\n",
    "        passing_drug = elements\n",
    "        passing.append(elements)\n",
    "        index_passing.append(i)\n",
    "    else :\n",
    "        failing_drugs = elements\n",
    "        failing.append(elements)\n",
    "        index_failing.append(i)\n",
    "passing_drugs = list(zip(index_passing, passing))\n",
    "failing_drugs = list(zip(index_failing, failing))\n",
    "\n",
    "# Orient widths. Add labels, tick marks, etc. \n",
    "fig, ax = plt.subplots()\n",
    "y_value1 = [Percent_Changes[\"Infubinol\"], Percent_Changes[\"Ketapril\"], Percent_Changes[\"Placebo\"]]\n",
    "x_axis1 = [0]\n",
    "x_axis2 = [1, 2, 3]\n",
    "\n",
    "\n",
    "bars1 = ax.bar(x_axis1, Percent_Changes[\"Capomulin\"], color='g', alpha=0.8, align=\"edge\", width = -1)\n",
    "bars2 = ax.bar(x_axis2, y_value1 , color='r', alpha=0.8, align=\"edge\", width = -1)\n",
    "x_labels = [\"Capomulin\", \"Infubinol\", \"Ketapril\", \"Placebo\"]\n",
    "\n",
    "plt.setp(ax, xticks=[0, 1, 2, 3], xticklabels=[\"Capomulin\", \"Infubinol\", \"Ketapril\", \"Placebo\"],\n",
    "        yticks=[-20, 0, 20, 40, 60])\n",
    "\n",
    "ax.set_ylabel('% Tumor Volume Change')\n",
    "ax.set_title('Tumor Change Over 45 Day Treatment')\n",
    "ax.grid()\n",
    "\n",
    "# Use functions to label the percentages of changes\n",
    "def autolabel(rects):\n",
    "    for rect in rects:\n",
    "        height = rect.get_height()\n",
    "        ax.text(rect.get_x() + rect.get_width()/2, .1*height, \"%d\" %int(height)+ \"%\",\n",
    "                ha='center', va='top', color=\"white\")\n",
    "# Call functions to implement the function calls\n",
    "autolabel(bars1)\n",
    "autolabel(bars2)\n",
    "fig.tight_layout()\n",
    "# Save the Figure\n",
    "plt.savefig(\"Percentage_Tumor_Volume_Change.png\")\n",
    "# Show the Figure\n",
    "fig.show()"
   ]
  }
 ],
 "metadata": {
  "kernelspec": {
   "display_name": "Python 3",
   "language": "python",
   "name": "python3"
  },
  "language_info": {
   "codemirror_mode": {
    "name": "ipython",
    "version": 3
   },
   "file_extension": ".py",
   "mimetype": "text/x-python",
   "name": "python",
   "nbconvert_exporter": "python",
   "pygments_lexer": "ipython3",
   "version": "3.7.4"
  }
 },
 "nbformat": 4,
 "nbformat_minor": 2
}
